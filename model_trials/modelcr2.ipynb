{
 "cells": [
  {
   "cell_type": "code",
   "execution_count": 6,
   "id": "bc5648b2-1f65-4593-8676-f439f365d6b9",
   "metadata": {},
   "outputs": [],
   "source": [
    "import os\n",
    "path = '/teamspace/studios/this_studio'\n",
    "data = os.listdir(path)"
   ]
  },
  {
   "cell_type": "code",
   "execution_count": 5,
   "id": "d578d2bc",
   "metadata": {},
   "outputs": [
    {
     "name": "stdout",
     "output_type": "stream",
     "text": [
      "/teamspace/studios/this_studio\n"
     ]
    }
   ],
   "source": [
    "!pwd"
   ]
  },
  {
   "cell_type": "code",
   "execution_count": 7,
   "id": "a687f3ff",
   "metadata": {},
   "outputs": [
    {
     "data": {
      "text/plain": [
       "['.bashrc',\n",
       " '.cache',\n",
       " '.docker',\n",
       " '.ipython',\n",
       " '.lightning_studio',\n",
       " '.lightningignore',\n",
       " '.nv',\n",
       " '.sudo_as_admin_successful',\n",
       " '.vscode',\n",
       " '.zcompdump',\n",
       " '.zshrc',\n",
       " 'LLMs',\n",
       " 'anky',\n",
       " 'book_one',\n",
       " 'examples',\n",
       " 'getting_started.ipynb',\n",
       " 'hfcache',\n",
       " 'llama.cpp',\n",
       " '.profile',\n",
       " '.ssh',\n",
       " '.config',\n",
       " '.jupyter',\n",
       " '.zsh_history',\n",
       " '.hushlogin',\n",
       " '.local',\n",
       " '.condarc',\n",
       " '.gitconfig',\n",
       " '.oh-my-zsh']"
      ]
     },
     "execution_count": 7,
     "metadata": {},
     "output_type": "execute_result"
    }
   ],
   "source": [
    "data"
   ]
  }
 ],
 "metadata": {
  "kernelspec": {
   "display_name": "Python 3",
   "language": "python",
   "name": "python3"
  },
  "language_info": {
   "codemirror_mode": {
    "name": "ipython",
    "version": 3
   },
   "file_extension": ".py",
   "mimetype": "text/x-python",
   "name": "python",
   "nbconvert_exporter": "python",
   "pygments_lexer": "ipython3",
   "version": "3.10.11"
  }
 },
 "nbformat": 4,
 "nbformat_minor": 5
}
