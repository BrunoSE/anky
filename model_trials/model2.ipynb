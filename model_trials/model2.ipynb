{
 "cells": [
  {
   "cell_type": "code",
   "execution_count": 1,
   "id": "9478643f-22c3-45a5-8594-47ae451dafdf",
   "metadata": {},
   "outputs": [],
   "source": [
    "!pip install sentencepiece protobuf flash-attn"
   ]
  },
  {
   "cell_type": "code",
   "execution_count": null,
   "id": "323be8da-23af-4d7d-bb94-892d22abef39",
   "metadata": {},
   "outputs": [],
   "source": [
    "# Code to inference Hermes with HF Transformers\n",
    "# Requires pytorch, transformers, bitsandbytes, sentencepiece, protobuf, and flash-attn packages\n",
    "\n",
    "import torch\n",
    "from transformers import AutoTokenizer, AutoModelForCausalLM\n",
    "from transformers import LlamaTokenizer, MixtralForCausalLM\n",
    "import bitsandbytes, flash_attn\n",
    "\n",
    "tokenizer = LlamaTokenizer.from_pretrained('NousResearch/Nous-Hermes-2-Mixtral-8x7B-DPO', trust_remote_code=True)\n",
    "model = MixtralForCausalLM.from_pretrained(\n",
    "    \"NousResearch/Nous-Hermes-2-Mixtral-8x7B-DPO\",\n",
    "    torch_dtype=torch.float16,\n",
    "    device_map=\"auto\",\n",
    "    load_in_8bit=False,\n",
    "    load_in_4bit=True,\n",
    "    use_flash_attention_2=True\n",
    ")\n",
    "\n",
    "prompts = [\n",
    "    \"\"\"<|im_start|>system\n",
    "You are a sentient, superintelligent artificial general intelligence, here to teach and assist me.<|im_end|>\n",
    "<|im_start|>user\n",
    "Write a short story about Goku discovering kirby has teamed up with Majin Buu to destroy the world.<|im_end|>\n",
    "<|im_start|>assistant\"\"\",\n",
    "    ]\n",
    "\n",
    "for chat in prompts:\n",
    "    print(chat)\n",
    "    input_ids = tokenizer(chat, return_tensors=\"pt\").input_ids.to(\"cuda\")\n",
    "    generated_ids = model.generate(input_ids, max_new_tokens=750, temperature=0.8, repetition_penalty=1.1, do_sample=True, eos_token_id=tokenizer.eos_token_id)\n",
    "    response = tokenizer.decode(generated_ids[0][input_ids.shape[-1]:], skip_special_tokens=True, clean_up_tokenization_space=True)\n",
    "    print(f\"Response: {response}\")"
   ]
  }
 ],
 "metadata": {
  "kernelspec": {
   "display_name": "Python 3 (ipykernel)",
   "language": "python",
   "name": "python3"
  },
  "language_info": {
   "codemirror_mode": {
    "name": "ipython",
    "version": 3
   },
   "file_extension": ".py",
   "mimetype": "text/x-python",
   "name": "python",
   "nbconvert_exporter": "python",
   "pygments_lexer": "ipython3",
   "version": "3.10.12"
  }
 },
 "nbformat": 4,
 "nbformat_minor": 5
}
